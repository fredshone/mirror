{
 "cells": [
  {
   "cell_type": "code",
   "execution_count": 3,
   "metadata": {},
   "outputs": [],
   "source": [
    "import pandas as pd"
   ]
  },
  {
   "cell_type": "code",
   "execution_count": null,
   "metadata": {},
   "outputs": [
    {
     "data": {
      "text/html": [
       "<div>\n",
       "<style scoped>\n",
       "    .dataframe tbody tr th:only-of-type {\n",
       "        vertical-align: middle;\n",
       "    }\n",
       "\n",
       "    .dataframe tbody tr th {\n",
       "        vertical-align: top;\n",
       "    }\n",
       "\n",
       "    .dataframe thead th {\n",
       "        text-align: right;\n",
       "    }\n",
       "</style>\n",
       "<table border=\"1\" class=\"dataframe\">\n",
       "  <thead>\n",
       "    <tr style=\"text-align: right;\">\n",
       "      <th></th>\n",
       "      <th>geogcode</th>\n",
       "      <th>Gender</th>\n",
       "      <th>Age</th>\n",
       "      <th>value</th>\n",
       "    </tr>\n",
       "  </thead>\n",
       "  <tbody>\n",
       "    <tr>\n",
       "      <th>0</th>\n",
       "      <td>E06000005</td>\n",
       "      <td>Male</td>\n",
       "      <td>Age 0 - 4</td>\n",
       "      <td>2651</td>\n",
       "    </tr>\n",
       "    <tr>\n",
       "      <th>1</th>\n",
       "      <td>E06000005</td>\n",
       "      <td>Male</td>\n",
       "      <td>Aged 5-9</td>\n",
       "      <td>2757</td>\n",
       "    </tr>\n",
       "    <tr>\n",
       "      <th>2</th>\n",
       "      <td>E06000005</td>\n",
       "      <td>Male</td>\n",
       "      <td>Aged 10-14</td>\n",
       "      <td>3002</td>\n",
       "    </tr>\n",
       "    <tr>\n",
       "      <th>3</th>\n",
       "      <td>E06000005</td>\n",
       "      <td>Male</td>\n",
       "      <td>Aged 15-19</td>\n",
       "      <td>3208</td>\n",
       "    </tr>\n",
       "    <tr>\n",
       "      <th>4</th>\n",
       "      <td>E06000005</td>\n",
       "      <td>Male</td>\n",
       "      <td>Aged 20-24</td>\n",
       "      <td>2600</td>\n",
       "    </tr>\n",
       "    <tr>\n",
       "      <th>...</th>\n",
       "      <td>...</td>\n",
       "      <td>...</td>\n",
       "      <td>...</td>\n",
       "      <td>...</td>\n",
       "    </tr>\n",
       "    <tr>\n",
       "      <th>11407</th>\n",
       "      <td>E07000246</td>\n",
       "      <td>Female</td>\n",
       "      <td>Aged 65-69</td>\n",
       "      <td>7059</td>\n",
       "    </tr>\n",
       "    <tr>\n",
       "      <th>11408</th>\n",
       "      <td>E07000246</td>\n",
       "      <td>Female</td>\n",
       "      <td>Aged 70-74</td>\n",
       "      <td>6030</td>\n",
       "    </tr>\n",
       "    <tr>\n",
       "      <th>11409</th>\n",
       "      <td>E07000246</td>\n",
       "      <td>Female</td>\n",
       "      <td>Aged 75-79</td>\n",
       "      <td>5204</td>\n",
       "    </tr>\n",
       "    <tr>\n",
       "      <th>11410</th>\n",
       "      <td>E07000246</td>\n",
       "      <td>Female</td>\n",
       "      <td>Aged 80-84</td>\n",
       "      <td>4725</td>\n",
       "    </tr>\n",
       "    <tr>\n",
       "      <th>11411</th>\n",
       "      <td>E07000246</td>\n",
       "      <td>Female</td>\n",
       "      <td>Aged 85+</td>\n",
       "      <td>4842</td>\n",
       "    </tr>\n",
       "  </tbody>\n",
       "</table>\n",
       "<p>11412 rows × 4 columns</p>\n",
       "</div>"
      ],
      "text/plain": [
       "        geogcode  Gender         Age  value\n",
       "0      E06000005    Male   Age 0 - 4   2651\n",
       "1      E06000005    Male    Aged 5-9   2757\n",
       "2      E06000005    Male  Aged 10-14   3002\n",
       "3      E06000005    Male  Aged 15-19   3208\n",
       "4      E06000005    Male  Aged 20-24   2600\n",
       "...          ...     ...         ...    ...\n",
       "11407  E07000246  Female  Aged 65-69   7059\n",
       "11408  E07000246  Female  Aged 70-74   6030\n",
       "11409  E07000246  Female  Aged 75-79   5204\n",
       "11410  E07000246  Female  Aged 80-84   4725\n",
       "11411  E07000246  Female    Aged 85+   4842\n",
       "\n",
       "[11412 rows x 4 columns]"
      ]
     },
     "execution_count": 15,
     "metadata": {},
     "output_type": "execute_result"
    }
   ],
   "source": [
    "data = pd.read_csv(\"data/2030_data.tsv\", sep=\"\\t\")[\n",
    "    [\"geogcode\", \"Gender\", \"Age\", \"value\"]\n",
    "]\n",
    "codes = pd.read_csv(\"data/2030_geog.tsv\", sep=\"\\t\")\n",
    "codes_map = dict(zip(codes[\"geogcode\"], codes[\"description\"]))\n",
    "data"
   ]
  },
  {
   "cell_type": "code",
   "execution_count": 18,
   "metadata": {},
   "outputs": [
    {
     "data": {
      "text/plain": [
       "Age\n",
       "Age 0 - 4     634\n",
       "Aged 5-9      634\n",
       "Aged 10-14    634\n",
       "Aged 15-19    634\n",
       "Aged 20-24    634\n",
       "Aged 25-29    634\n",
       "Aged 30-34    634\n",
       "Aged 35-39    634\n",
       "Aged 40-44    634\n",
       "Aged 45-49    634\n",
       "Aged 50-54    634\n",
       "Aged 55-59    634\n",
       "Aged 60-64    634\n",
       "Aged 65-69    634\n",
       "Aged 70-74    634\n",
       "Aged 75-79    634\n",
       "Aged 80-84    634\n",
       "Aged 85+      634\n",
       "Name: count, dtype: int64"
      ]
     },
     "execution_count": 18,
     "metadata": {},
     "output_type": "execute_result"
    }
   ],
   "source": [
    "data.Age.value_counts()"
   ]
  },
  {
   "cell_type": "code",
   "execution_count": null,
   "metadata": {},
   "outputs": [],
   "source": []
  }
 ],
 "metadata": {
  "kernelspec": {
   "display_name": "mirror",
   "language": "python",
   "name": "python3"
  },
  "language_info": {
   "codemirror_mode": {
    "name": "ipython",
    "version": 3
   },
   "file_extension": ".py",
   "mimetype": "text/x-python",
   "name": "python",
   "nbconvert_exporter": "python",
   "pygments_lexer": "ipython3",
   "version": "3.12.8"
  }
 },
 "nbformat": 4,
 "nbformat_minor": 2
}
