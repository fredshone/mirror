{
 "cells": [
  {
   "cell_type": "code",
   "execution_count": null,
   "metadata": {},
   "outputs": [],
   "source": [
    "from pathlib import Path\n",
    "\n",
    "import pandas as pd\n",
    "from pytorch_lightning import Trainer\n",
    "from pytorch_lightning.callbacks import EarlyStopping, ModelCheckpoint\n",
    "from pytorch_lightning.loggers import WandbLogger\n",
    "from torch import set_float32_matmul_precision\n",
    "\n",
    "from mirror.dataloaders.loader import DataModule\n",
    "from mirror.encoders import TableEncoder, YXDataset, YZDataset, ZDataset\n",
    "from mirror.encoders.maps import rename\n",
    "from mirror.models.cvae import CVAE\n",
    "from mirror.models.cvae_components import (\n",
    "    CVAEDecoderBlock,\n",
    "    CVAEEncoderBlock,\n",
    "    LabelsEncoderBlock,\n",
    ")"
   ]
  },
  {
   "cell_type": "code",
   "execution_count": 2,
   "metadata": {},
   "outputs": [],
   "source": [
    "LOGDIR = Path(\"demo_logs\")"
   ]
  },
  {
   "cell_type": "code",
   "execution_count": 3,
   "metadata": {},
   "outputs": [
    {
     "name": "stdout",
     "output_type": "stream",
     "text": [
      "604351\n",
      "Probability of unique person = 0.616\n"
     ]
    },
    {
     "data": {
      "text/html": [
       "<div>\n",
       "<style scoped>\n",
       "    .dataframe tbody tr th:only-of-type {\n",
       "        vertical-align: middle;\n",
       "    }\n",
       "\n",
       "    .dataframe tbody tr th {\n",
       "        vertical-align: top;\n",
       "    }\n",
       "\n",
       "    .dataframe thead th {\n",
       "        text-align: right;\n",
       "    }\n",
       "</style>\n",
       "<table border=\"1\" class=\"dataframe\">\n",
       "  <thead>\n",
       "    <tr style=\"text-align: right;\">\n",
       "      <th></th>\n",
       "      <th>social</th>\n",
       "      <th>country_of_birth</th>\n",
       "      <th>employment_status</th>\n",
       "      <th>ethnicity</th>\n",
       "      <th>health</th>\n",
       "      <th>household_type</th>\n",
       "      <th>hours_worked</th>\n",
       "      <th>full_time_student</th>\n",
       "      <th>industry</th>\n",
       "      <th>inner/outer_london</th>\n",
       "      <th>marital_status</th>\n",
       "      <th>occupaion</th>\n",
       "      <th>region</th>\n",
       "      <th>religion</th>\n",
       "      <th>residence_type</th>\n",
       "      <th>age_group</th>\n",
       "      <th>sex</th>\n",
       "      <th>residency_type</th>\n",
       "    </tr>\n",
       "  </thead>\n",
       "  <tbody>\n",
       "    <tr>\n",
       "      <th>count</th>\n",
       "      <td>604351</td>\n",
       "      <td>604351</td>\n",
       "      <td>604351</td>\n",
       "      <td>604351</td>\n",
       "      <td>604351</td>\n",
       "      <td>604351</td>\n",
       "      <td>604351</td>\n",
       "      <td>604351</td>\n",
       "      <td>604351</td>\n",
       "      <td>604351</td>\n",
       "      <td>604351</td>\n",
       "      <td>604351</td>\n",
       "      <td>604351</td>\n",
       "      <td>604351</td>\n",
       "      <td>604351</td>\n",
       "      <td>604351</td>\n",
       "      <td>604351</td>\n",
       "      <td>604351</td>\n",
       "    </tr>\n",
       "    <tr>\n",
       "      <th>unique</th>\n",
       "      <td>5</td>\n",
       "      <td>3</td>\n",
       "      <td>10</td>\n",
       "      <td>6</td>\n",
       "      <td>6</td>\n",
       "      <td>6</td>\n",
       "      <td>5</td>\n",
       "      <td>3</td>\n",
       "      <td>10</td>\n",
       "      <td>3</td>\n",
       "      <td>6</td>\n",
       "      <td>10</td>\n",
       "      <td>10</td>\n",
       "      <td>10</td>\n",
       "      <td>2</td>\n",
       "      <td>7</td>\n",
       "      <td>2</td>\n",
       "      <td>3</td>\n",
       "    </tr>\n",
       "    <tr>\n",
       "      <th>top</th>\n",
       "      <td>2</td>\n",
       "      <td>1</td>\n",
       "      <td>1</td>\n",
       "      <td>4</td>\n",
       "      <td>1</td>\n",
       "      <td>2</td>\n",
       "      <td>-8</td>\n",
       "      <td>2</td>\n",
       "      <td>-8</td>\n",
       "      <td>-8</td>\n",
       "      <td>2</td>\n",
       "      <td>-8</td>\n",
       "      <td>E12000008</td>\n",
       "      <td>2</td>\n",
       "      <td>1</td>\n",
       "      <td>1</td>\n",
       "      <td>1</td>\n",
       "      <td>1</td>\n",
       "    </tr>\n",
       "    <tr>\n",
       "      <th>freq</th>\n",
       "      <td>155374</td>\n",
       "      <td>496377</td>\n",
       "      <td>223809</td>\n",
       "      <td>487868</td>\n",
       "      <td>289229</td>\n",
       "      <td>320211</td>\n",
       "      <td>326132</td>\n",
       "      <td>449456</td>\n",
       "      <td>171052</td>\n",
       "      <td>514862</td>\n",
       "      <td>217340</td>\n",
       "      <td>171052</td>\n",
       "      <td>94344</td>\n",
       "      <td>275536</td>\n",
       "      <td>593416</td>\n",
       "      <td>111272</td>\n",
       "      <td>308536</td>\n",
       "      <td>596020</td>\n",
       "    </tr>\n",
       "  </tbody>\n",
       "</table>\n",
       "</div>"
      ],
      "text/plain": [
       "        social  country_of_birth  employment_status  ethnicity  health  \\\n",
       "count   604351            604351             604351     604351  604351   \n",
       "unique       5                 3                 10          6       6   \n",
       "top          2                 1                  1          4       1   \n",
       "freq    155374            496377             223809     487868  289229   \n",
       "\n",
       "        household_type  hours_worked  full_time_student  industry  \\\n",
       "count           604351        604351             604351    604351   \n",
       "unique               6             5                  3        10   \n",
       "top                  2            -8                  2        -8   \n",
       "freq            320211        326132             449456    171052   \n",
       "\n",
       "       inner/outer_london  marital_status  occupaion     region  religion  \\\n",
       "count              604351          604351     604351     604351    604351   \n",
       "unique                  3               6         10         10        10   \n",
       "top                    -8               2         -8  E12000008         2   \n",
       "freq               514862          217340     171052      94344    275536   \n",
       "\n",
       "        residence_type  age_group     sex  residency_type  \n",
       "count           604351     604351  604351          604351  \n",
       "unique               2          7       2               3  \n",
       "top                  1          1       1               1  \n",
       "freq            593416     111272  308536          596020  "
      ]
     },
     "execution_count": 3,
     "metadata": {},
     "output_type": "execute_result"
    }
   ],
   "source": [
    "census = pd.read_csv(\"data/census.csv.zip\")\n",
    "census = census.set_index(\"resident_id_m\")\n",
    "census = census.apply(lambda col: col.astype(\"category\"))\n",
    "print(len(census))\n",
    "\n",
    "uniques = census.drop_duplicates()\n",
    "p = len(uniques) / len(census)\n",
    "print(f\"Probability of unique person = {p:.3}\")\n",
    "\n",
    "census = census.rename(columns=rename)\n",
    "census.describe()"
   ]
  },
  {
   "cell_type": "code",
   "execution_count": 4,
   "metadata": {},
   "outputs": [
    {
     "data": {
      "text/html": [
       "<div>\n",
       "<style scoped>\n",
       "    .dataframe tbody tr th:only-of-type {\n",
       "        vertical-align: middle;\n",
       "    }\n",
       "\n",
       "    .dataframe tbody tr th {\n",
       "        vertical-align: top;\n",
       "    }\n",
       "\n",
       "    .dataframe thead th {\n",
       "        text-align: right;\n",
       "    }\n",
       "</style>\n",
       "<table border=\"1\" class=\"dataframe\">\n",
       "  <thead>\n",
       "    <tr style=\"text-align: right;\">\n",
       "      <th></th>\n",
       "      <th>social</th>\n",
       "      <th>country_of_birth</th>\n",
       "      <th>employment_status</th>\n",
       "      <th>ethnicity</th>\n",
       "      <th>health</th>\n",
       "      <th>household_type</th>\n",
       "      <th>hours_worked</th>\n",
       "      <th>full_time_student</th>\n",
       "      <th>industry</th>\n",
       "      <th>inner/outer_london</th>\n",
       "      <th>marital_status</th>\n",
       "      <th>occupaion</th>\n",
       "      <th>region</th>\n",
       "      <th>religion</th>\n",
       "      <th>residence_type</th>\n",
       "      <th>age_group</th>\n",
       "      <th>sex</th>\n",
       "      <th>residency_type</th>\n",
       "    </tr>\n",
       "    <tr>\n",
       "      <th>resident_id_m</th>\n",
       "      <th></th>\n",
       "      <th></th>\n",
       "      <th></th>\n",
       "      <th></th>\n",
       "      <th></th>\n",
       "      <th></th>\n",
       "      <th></th>\n",
       "      <th></th>\n",
       "      <th></th>\n",
       "      <th></th>\n",
       "      <th></th>\n",
       "      <th></th>\n",
       "      <th></th>\n",
       "      <th></th>\n",
       "      <th></th>\n",
       "      <th></th>\n",
       "      <th></th>\n",
       "      <th></th>\n",
       "    </tr>\n",
       "  </thead>\n",
       "  <tbody>\n",
       "    <tr>\n",
       "      <th>PTS000000588097</th>\n",
       "      <td>4</td>\n",
       "      <td>1</td>\n",
       "      <td>1</td>\n",
       "      <td>4</td>\n",
       "      <td>1</td>\n",
       "      <td>4</td>\n",
       "      <td>4</td>\n",
       "      <td>2</td>\n",
       "      <td>4</td>\n",
       "      <td>-8</td>\n",
       "      <td>1</td>\n",
       "      <td>5</td>\n",
       "      <td>E12000003</td>\n",
       "      <td>2</td>\n",
       "      <td>1</td>\n",
       "      <td>4</td>\n",
       "      <td>2</td>\n",
       "      <td>1</td>\n",
       "    </tr>\n",
       "    <tr>\n",
       "      <th>PTS000000000320</th>\n",
       "      <td>-8</td>\n",
       "      <td>1</td>\n",
       "      <td>5</td>\n",
       "      <td>4</td>\n",
       "      <td>2</td>\n",
       "      <td>1</td>\n",
       "      <td>-8</td>\n",
       "      <td>2</td>\n",
       "      <td>7</td>\n",
       "      <td>-8</td>\n",
       "      <td>1</td>\n",
       "      <td>2</td>\n",
       "      <td>E12000005</td>\n",
       "      <td>2</td>\n",
       "      <td>1</td>\n",
       "      <td>7</td>\n",
       "      <td>2</td>\n",
       "      <td>1</td>\n",
       "    </tr>\n",
       "    <tr>\n",
       "      <th>PTS000000397448</th>\n",
       "      <td>-8</td>\n",
       "      <td>2</td>\n",
       "      <td>5</td>\n",
       "      <td>4</td>\n",
       "      <td>2</td>\n",
       "      <td>1</td>\n",
       "      <td>-8</td>\n",
       "      <td>2</td>\n",
       "      <td>7</td>\n",
       "      <td>-8</td>\n",
       "      <td>1</td>\n",
       "      <td>3</td>\n",
       "      <td>E12000002</td>\n",
       "      <td>2</td>\n",
       "      <td>1</td>\n",
       "      <td>7</td>\n",
       "      <td>2</td>\n",
       "      <td>1</td>\n",
       "    </tr>\n",
       "    <tr>\n",
       "      <th>PTS000000082442</th>\n",
       "      <td>-8</td>\n",
       "      <td>1</td>\n",
       "      <td>5</td>\n",
       "      <td>4</td>\n",
       "      <td>3</td>\n",
       "      <td>2</td>\n",
       "      <td>-8</td>\n",
       "      <td>2</td>\n",
       "      <td>8</td>\n",
       "      <td>-8</td>\n",
       "      <td>2</td>\n",
       "      <td>8</td>\n",
       "      <td>E12000006</td>\n",
       "      <td>2</td>\n",
       "      <td>1</td>\n",
       "      <td>7</td>\n",
       "      <td>1</td>\n",
       "      <td>1</td>\n",
       "    </tr>\n",
       "    <tr>\n",
       "      <th>PTS000000016066</th>\n",
       "      <td>4</td>\n",
       "      <td>1</td>\n",
       "      <td>8</td>\n",
       "      <td>4</td>\n",
       "      <td>2</td>\n",
       "      <td>1</td>\n",
       "      <td>-8</td>\n",
       "      <td>2</td>\n",
       "      <td>9</td>\n",
       "      <td>-8</td>\n",
       "      <td>1</td>\n",
       "      <td>9</td>\n",
       "      <td>E12000002</td>\n",
       "      <td>1</td>\n",
       "      <td>1</td>\n",
       "      <td>2</td>\n",
       "      <td>2</td>\n",
       "      <td>1</td>\n",
       "    </tr>\n",
       "  </tbody>\n",
       "</table>\n",
       "</div>"
      ],
      "text/plain": [
       "                social country_of_birth employment_status ethnicity health  \\\n",
       "resident_id_m                                                                \n",
       "PTS000000588097      4                1                 1         4      1   \n",
       "PTS000000000320     -8                1                 5         4      2   \n",
       "PTS000000397448     -8                2                 5         4      2   \n",
       "PTS000000082442     -8                1                 5         4      3   \n",
       "PTS000000016066      4                1                 8         4      2   \n",
       "\n",
       "                household_type hours_worked full_time_student industry  \\\n",
       "resident_id_m                                                            \n",
       "PTS000000588097              4            4                 2        4   \n",
       "PTS000000000320              1           -8                 2        7   \n",
       "PTS000000397448              1           -8                 2        7   \n",
       "PTS000000082442              2           -8                 2        8   \n",
       "PTS000000016066              1           -8                 2        9   \n",
       "\n",
       "                inner/outer_london marital_status occupaion     region  \\\n",
       "resident_id_m                                                            \n",
       "PTS000000588097                 -8              1         5  E12000003   \n",
       "PTS000000000320                 -8              1         2  E12000005   \n",
       "PTS000000397448                 -8              1         3  E12000002   \n",
       "PTS000000082442                 -8              2         8  E12000006   \n",
       "PTS000000016066                 -8              1         9  E12000002   \n",
       "\n",
       "                religion residence_type age_group sex residency_type  \n",
       "resident_id_m                                                         \n",
       "PTS000000588097        2              1         4   2              1  \n",
       "PTS000000000320        2              1         7   2              1  \n",
       "PTS000000397448        2              1         7   2              1  \n",
       "PTS000000082442        2              1         7   1              1  \n",
       "PTS000000016066        1              1         2   2              1  "
      ]
     },
     "execution_count": 4,
     "metadata": {},
     "output_type": "execute_result"
    }
   ],
   "source": [
    "census.head()"
   ]
  },
  {
   "cell_type": "code",
   "execution_count": 5,
   "metadata": {},
   "outputs": [
    {
     "name": "stdout",
     "output_type": "stream",
     "text": [
      "tensor(0.) tensor(9.)\n"
     ]
    },
    {
     "data": {
      "text/plain": [
       "['sex', 'age_group', 'region']"
      ]
     },
     "execution_count": 5,
     "metadata": {},
     "output_type": "execute_result"
    }
   ],
   "source": [
    "# Define controls aka labels aka Y, that will be used to condition generation\n",
    "controls = [\"sex\", \"age_group\", \"region\"]\n",
    "census_controls = census[controls]\n",
    "target_census = census.drop(columns=controls)\n",
    "\n",
    "controls_encoder = TableEncoder(census_controls)\n",
    "y_dataset = controls_encoder.encode(data=census_controls)\n",
    "controls_encoder.names()"
   ]
  },
  {
   "cell_type": "code",
   "execution_count": 6,
   "metadata": {},
   "outputs": [
    {
     "name": "stdout",
     "output_type": "stream",
     "text": [
      "tensor(0.) tensor(9.)\n"
     ]
    },
    {
     "data": {
      "text/plain": [
       "['social',\n",
       " 'country_of_birth',\n",
       " 'employment_status',\n",
       " 'ethnicity',\n",
       " 'health',\n",
       " 'household_type',\n",
       " 'hours_worked',\n",
       " 'full_time_student',\n",
       " 'industry',\n",
       " 'inner/outer_london',\n",
       " 'marital_status',\n",
       " 'occupaion',\n",
       " 'religion',\n",
       " 'residence_type',\n",
       " 'residency_type']"
      ]
     },
     "execution_count": 6,
     "metadata": {},
     "output_type": "execute_result"
    }
   ],
   "source": [
    "# Define census aka X, that will be generated\n",
    "census_encoder = TableEncoder(target_census)\n",
    "x_dataset = census_encoder.encode(data=target_census)\n",
    "census_encoder.names()"
   ]
  },
  {
   "cell_type": "code",
   "execution_count": 7,
   "metadata": {},
   "outputs": [],
   "source": [
    "# combine into dataset object\n",
    "yx_dataset = YXDataset(x_dataset, y_dataset)\n",
    "dataloader = DataModule(\n",
    "    dataset=yx_dataset,\n",
    "    val_split=0.1,\n",
    "    test_split=0.1,\n",
    "    train_batch_size=512,\n",
    "    val_batch_size=512,\n",
    "    test_batch_size=512,\n",
    "    num_workers=4,\n",
    "    pin_memory=False,\n",
    ")"
   ]
  },
  {
   "cell_type": "code",
   "execution_count": 8,
   "metadata": {},
   "outputs": [],
   "source": [
    "# encoder block to embed labels into vec with hidden size\n",
    "labels_encoder_block = LabelsEncoderBlock(\n",
    "    encoder_types=controls_encoder.types(),\n",
    "    encoder_sizes=controls_encoder.sizes(),\n",
    "    depth=3,\n",
    "    hidden_size=128,\n",
    ")\n",
    "\n",
    "# encoder and decoder block to process census data\n",
    "encoder = CVAEEncoderBlock(\n",
    "    encoder_types=census_encoder.types(),\n",
    "    encoder_sizes=census_encoder.sizes(),\n",
    "    depth=3,\n",
    "    hidden_size=128,\n",
    "    latent_size=12,\n",
    ")\n",
    "decoder = CVAEDecoderBlock(\n",
    "    encoder_types=census_encoder.types(),\n",
    "    encoder_sizes=census_encoder.sizes(),\n",
    "    depth=3,\n",
    "    hidden_size=128,\n",
    "    latent_size=12,\n",
    ")\n",
    "\n",
    "# CVAE model\n",
    "cvae = CVAE(\n",
    "    embedding_names=census_encoder.names(),\n",
    "    embedding_types=census_encoder.types(),\n",
    "    labels_encoder_block=labels_encoder_block,\n",
    "    encoder_block=encoder,\n",
    "    decoder_block=decoder,\n",
    "    beta=1,\n",
    "    lr=0.001,\n",
    ")"
   ]
  },
  {
   "cell_type": "code",
   "execution_count": 9,
   "metadata": {},
   "outputs": [
    {
     "name": "stderr",
     "output_type": "stream",
     "text": [
      "GPU available: False, used: False\n",
      "TPU available: False, using: 0 TPU cores\n",
      "HPU available: False, using: 0 HPUs\n",
      "\u001b[34m\u001b[1mwandb\u001b[0m: Using wandb-core as the SDK backend.  Please refer to https://wandb.me/wandb-core for more information.\n",
      "\u001b[34m\u001b[1mwandb\u001b[0m: Currently logged in as: \u001b[33mfredjshone\u001b[0m (\u001b[33mfredjshone-ucl\u001b[0m) to \u001b[32mhttps://api.wandb.ai\u001b[0m. Use \u001b[1m`wandb login --relogin`\u001b[0m to force relogin\n"
     ]
    },
    {
     "data": {
      "text/html": [],
      "text/plain": [
       "<IPython.core.display.HTML object>"
      ]
     },
     "metadata": {},
     "output_type": "display_data"
    },
    {
     "data": {
      "text/html": [
       "Tracking run with wandb version 0.19.7.dev1"
      ],
      "text/plain": [
       "<IPython.core.display.HTML object>"
      ]
     },
     "metadata": {},
     "output_type": "display_data"
    },
    {
     "data": {
      "text/html": [
       "Run data is saved locally in <code>./wandb/run-20250910_221741-koczwohw</code>"
      ],
      "text/plain": [
       "<IPython.core.display.HTML object>"
      ]
     },
     "metadata": {},
     "output_type": "display_data"
    },
    {
     "data": {
      "text/html": [
       "Syncing run <strong><a href='https://wandb.ai/fredjshone-ucl/nomis_demo/runs/koczwohw' target=\"_blank\">youthful-haze-9</a></strong> to <a href='https://wandb.ai/fredjshone-ucl/nomis_demo' target=\"_blank\">Weights & Biases</a> (<a href='https://wandb.me/developer-guide' target=\"_blank\">docs</a>)<br>"
      ],
      "text/plain": [
       "<IPython.core.display.HTML object>"
      ]
     },
     "metadata": {},
     "output_type": "display_data"
    },
    {
     "data": {
      "text/html": [
       " View project at <a href='https://wandb.ai/fredjshone-ucl/nomis_demo' target=\"_blank\">https://wandb.ai/fredjshone-ucl/nomis_demo</a>"
      ],
      "text/plain": [
       "<IPython.core.display.HTML object>"
      ]
     },
     "metadata": {},
     "output_type": "display_data"
    },
    {
     "data": {
      "text/html": [
       " View run at <a href='https://wandb.ai/fredjshone-ucl/nomis_demo/runs/koczwohw' target=\"_blank\">https://wandb.ai/fredjshone-ucl/nomis_demo/runs/koczwohw</a>"
      ],
      "text/plain": [
       "<IPython.core.display.HTML object>"
      ]
     },
     "metadata": {},
     "output_type": "display_data"
    },
    {
     "name": "stderr",
     "output_type": "stream",
     "text": [
      "/home/fred/miniforge3/envs/mirror/lib/python3.13/site-packages/pytorch_lightning/callbacks/model_checkpoint.py:654: Checkpoint directory /home/fred/projects/mirror/demo_logs/checkpoints exists and is not empty.\n",
      "\n",
      "  | Name                 | Type               | Params | Mode \n",
      "--------------------------------------------------------------------\n",
      "0 | labels_encoder_block | LabelsEncoderBlock | 35.5 K | train\n",
      "1 | encoder_block        | CVAEEncoderBlock   | 47.4 K | train\n",
      "2 | decoder_block        | CVAEDecoderBlock   | 29.5 K | train\n",
      "--------------------------------------------------------------------\n",
      "112 K     Trainable params\n",
      "0         Non-trainable params\n",
      "112 K     Total params\n",
      "0.449     Total estimated model params size (MB)\n",
      "91        Modules in train mode\n",
      "0         Modules in eval mode\n"
     ]
    },
    {
     "data": {
      "application/vnd.jupyter.widget-view+json": {
       "model_id": "085668cc33f24b67ba139018cc882aa5",
       "version_major": 2,
       "version_minor": 0
      },
      "text/plain": [
       "Sanity Checking: |          | 0/? [00:00<?, ?it/s]"
      ]
     },
     "metadata": {},
     "output_type": "display_data"
    },
    {
     "data": {
      "application/vnd.jupyter.widget-view+json": {
       "model_id": "a1e0f976914349ce8d7b976ee8ffbf8e",
       "version_major": 2,
       "version_minor": 0
      },
      "text/plain": [
       "Training: |          | 0/? [00:00<?, ?it/s]"
      ]
     },
     "metadata": {},
     "output_type": "display_data"
    },
    {
     "data": {
      "application/vnd.jupyter.widget-view+json": {
       "model_id": "37829b8e9ab847898b3422395446bca8",
       "version_major": 2,
       "version_minor": 0
      },
      "text/plain": [
       "Validation: |          | 0/? [00:00<?, ?it/s]"
      ]
     },
     "metadata": {},
     "output_type": "display_data"
    },
    {
     "name": "stderr",
     "output_type": "stream",
     "text": [
      "`Trainer.fit` stopped: `max_epochs=1` reached.\n"
     ]
    }
   ],
   "source": [
    "set_float32_matmul_precision(\"medium\")\n",
    "\n",
    "LOGDIR.mkdir(parents=True, exist_ok=True)\n",
    "log_dir = str(Path(LOGDIR))\n",
    "\n",
    "logger = WandbLogger(project=\"nomis_demo\", dir=log_dir)\n",
    "\n",
    "callbacks = [\n",
    "    EarlyStopping(monitor=\"val_loss\", patience=5, mode=\"min\"),\n",
    "    ModelCheckpoint(\n",
    "        monitor=\"val_loss\",\n",
    "        save_top_k=1,\n",
    "        mode=\"min\",\n",
    "        dirpath=Path(log_dir, \"checkpoints\"),\n",
    "        save_weights_only=False,\n",
    "    ),\n",
    "]\n",
    "trainer = Trainer(\n",
    "    min_epochs=1,\n",
    "    max_epochs=1,\n",
    "    callbacks=callbacks,\n",
    "    logger=logger,\n",
    "    check_val_every_n_epoch=1,\n",
    ")\n",
    "trainer.fit(model=cvae, train_dataloaders=dataloader)\n",
    "# trainer.validate(model=cvae, dataloaders=dataloader)"
   ]
  },
  {
   "cell_type": "code",
   "execution_count": 30,
   "metadata": {},
   "outputs": [
    {
     "data": {
      "application/vnd.jupyter.widget-view+json": {
       "model_id": "c772f7557f094226967072aace5d9b6d",
       "version_major": 2,
       "version_minor": 0
      },
      "text/plain": [
       "Predicting: |          | 0/? [00:00<?, ?it/s]"
      ]
     },
     "metadata": {},
     "output_type": "display_data"
    }
   ],
   "source": [
    "from torch import concat\n",
    "from torch.utils.data import DataLoader\n",
    "from torch import argmax, stack\n",
    "\n",
    "n = len(yx_dataset)\n",
    "z_loader = ZDataset(n, latent_size=12)\n",
    "yz_loader = YZDataset(z_loader, y_dataset)\n",
    "gen_loader = DataLoader(\n",
    "    yz_loader, batch_size=512, num_workers=4, persistent_workers=True\n",
    ")\n",
    "\n",
    "ys, xs, zs = zip(*trainer.predict(cvae, dataloaders=gen_loader))\n",
    "ys = concat(ys)\n",
    "xs = concat([stack([argmax(x, dim=1) for x in xb], dim=-1) for xb in xs], dim=0)\n",
    "zs = concat(zs)"
   ]
  },
  {
   "cell_type": "code",
   "execution_count": 31,
   "metadata": {},
   "outputs": [
    {
     "data": {
      "text/plain": [
       "tensor([[0, 0, 0,  ..., 0, 0, 0],\n",
       "        [0, 0, 0,  ..., 0, 0, 0],\n",
       "        [0, 0, 0,  ..., 0, 0, 0],\n",
       "        ...,\n",
       "        [0, 0, 0,  ..., 0, 0, 0],\n",
       "        [0, 0, 0,  ..., 0, 0, 0],\n",
       "        [0, 0, 0,  ..., 0, 0, 0]])"
      ]
     },
     "execution_count": 31,
     "metadata": {},
     "output_type": "execute_result"
    }
   ],
   "source": [
    "xs"
   ]
  },
  {
   "cell_type": "code",
   "execution_count": null,
   "metadata": {},
   "outputs": [],
   "source": []
  }
 ],
 "metadata": {
  "kernelspec": {
   "display_name": "mirror",
   "language": "python",
   "name": "mirror"
  },
  "language_info": {
   "codemirror_mode": {
    "name": "ipython",
    "version": 3
   },
   "file_extension": ".py",
   "mimetype": "text/x-python",
   "name": "python",
   "nbconvert_exporter": "python",
   "pygments_lexer": "ipython3",
   "version": "3.13.1"
  }
 },
 "nbformat": 4,
 "nbformat_minor": 2
}
